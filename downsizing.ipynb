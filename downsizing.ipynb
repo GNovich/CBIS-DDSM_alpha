{
 "cells": [
  {
   "cell_type": "code",
   "execution_count": 1,
   "metadata": {},
   "outputs": [],
   "source": [
    "import os\n",
    "from functools import partial\n",
    "import cv2\n",
    "from PIL import Image\n",
    "from torchvision import transforms as trans\n",
    "from torchvision.datasets import DatasetFolder\n",
    "from torch.utils.data import Dataset, DataLoader\n",
    "import pandas as pd\n",
    "import numpy as np\n",
    "from os.path import join as path_join\n",
    "import tqdm\n",
    "import matplotlib.pylab as plt\n",
    "import matplotlib\n",
    "import torch\n",
    "%matplotlib inline"
   ]
  },
  {
   "cell_type": "code",
   "execution_count": 2,
   "metadata": {},
   "outputs": [],
   "source": [
    "roi_dir_name = 'data/ROI_file'\n",
    "mam_dir_name = 'data/image_file'\n",
    "crop_dir_name = 'data/crop_data'\n",
    "\n",
    "num_workers = 1\n",
    "batch_size = 126\n",
    "roi_sampling_ratio = .9\n",
    "n_patches = 25\n",
    "patch_size = 224\n",
    "og_resize = (1152, 896)\n",
    "\n",
    "csv_dir = 'csv_files'\n",
    "train_table = pd.concat([pd.read_csv(os.path.join(csv_dir, x)) for x in\n",
    "                             os.listdir(csv_dir) if 'train' in x], sort=False, axis=0).sample(frac=1)\n",
    "test_table = pd.concat([pd.read_csv(os.path.join(csv_dir, x)) for x in\n",
    "                             os.listdir(csv_dir) if 'test' in x], sort=False, axis=0).sample(frac=1)\n",
    "\n",
    "src_transform = trans.Compose([\n",
    "    Image.fromarray,\n",
    "    trans.Resize(og_resize),\n",
    "])"
   ]
  },
  {
   "cell_type": "code",
   "execution_count": 3,
   "metadata": {},
   "outputs": [],
   "source": [
    "grey_loader = partial(cv2.imread, flags=cv2.IMREAD_GRAYSCALE)"
   ]
  },
  {
   "cell_type": "code",
   "execution_count": 19,
   "metadata": {},
   "outputs": [
    {
     "name": "stderr",
     "output_type": "stream",
     "text": [
      "/home/ubuntu/anaconda3/lib/python3.6/site-packages/ipykernel_launcher.py:1: TqdmDeprecationWarning: This function will be removed in tqdm==5.0.0\n",
      "Please use `tqdm.notebook.tqdm` instead of `tqdm.tqdm_notebook`\n",
      "  \"\"\"Entry point for launching an IPython kernel.\n"
     ]
    },
    {
     "data": {
      "application/vnd.jupyter.widget-view+json": {
       "model_id": "74403fb38d56404fae02d28c1a338773",
       "version_major": 2,
       "version_minor": 0
      },
      "text/plain": [
       "HBox(children=(FloatProgress(value=0.0, max=2864.0), HTML(value='')))"
      ]
     },
     "metadata": {},
     "output_type": "display_data"
    },
    {
     "name": "stdout",
     "output_type": "stream",
     "text": [
      "\n"
     ]
    }
   ],
   "source": [
    "for i, row in tqdm.tqdm_notebook(train_table.iterrows(), total=len(train_table)):\n",
    "    mode = 'train'\n",
    "    roi_col = 'ROI mask file path' + ' png'\n",
    "    mam_col = 'image file path' + ' png'\n",
    "    mam_image = src_transform(grey_loader(path_join(mam_dir_name, mode, str(row['label']), row[mam_col])))\n",
    "    mam_image.save(path_join(mam_dir_name+'_s', mode, str(row['label']), row[mam_col]))"
   ]
  },
  {
   "cell_type": "code",
   "execution_count": 8,
   "metadata": {},
   "outputs": [
    {
     "name": "stderr",
     "output_type": "stream",
     "text": [
      "/home/ubuntu/anaconda3/lib/python3.6/site-packages/ipykernel_launcher.py:1: TqdmDeprecationWarning: This function will be removed in tqdm==5.0.0\n",
      "Please use `tqdm.notebook.tqdm` instead of `tqdm.tqdm_notebook`\n",
      "  \"\"\"Entry point for launching an IPython kernel.\n"
     ]
    },
    {
     "data": {
      "application/vnd.jupyter.widget-view+json": {
       "model_id": "896c60a677644bb898b4081169bc7acd",
       "version_major": 2,
       "version_minor": 0
      },
      "text/plain": [
       "HBox(children=(FloatProgress(value=0.0, max=704.0), HTML(value='')))"
      ]
     },
     "metadata": {},
     "output_type": "display_data"
    },
    {
     "name": "stdout",
     "output_type": "stream",
     "text": [
      "\n"
     ]
    }
   ],
   "source": [
    "for i, row in tqdm.tqdm_notebook(test_table.iterrows(), total=len(test_table)):\n",
    "    mode = 'test'\n",
    "    roi_col = 'ROI mask file path' + ' png'\n",
    "    mam_col = 'image file path' + ' png'\n",
    "    mam_image = src_transform(grey_loader(path_join(mam_dir_name, mode, str(row['label']), row[mam_col])))\n",
    "    #mam_image.save(path_join(mam_dir_name+'_s', mode, str(row['label']), row[mam_col]))"
   ]
  },
  {
   "cell_type": "code",
   "execution_count": null,
   "metadata": {},
   "outputs": [],
   "source": []
  }
 ],
 "metadata": {
  "kernelspec": {
   "display_name": "Python 3",
   "language": "python",
   "name": "python3"
  },
  "language_info": {
   "codemirror_mode": {
    "name": "ipython",
    "version": 3
   },
   "file_extension": ".py",
   "mimetype": "text/x-python",
   "name": "python",
   "nbconvert_exporter": "python",
   "pygments_lexer": "ipython3",
   "version": "3.6.5"
  }
 },
 "nbformat": 4,
 "nbformat_minor": 2
}

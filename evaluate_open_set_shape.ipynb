{
 "cells": [
  {
   "cell_type": "code",
   "execution_count": 1,
   "metadata": {},
   "outputs": [],
   "source": [
    "from config import get_config\n",
    "import argparse\n",
    "from ShapeLearner import ShapeLearner\n",
    "from ShapeLoader import ShapeDataSet\n",
    "from torchvision import transforms as trans\n",
    "from torch.utils.data import Dataset, ConcatDataset, DataLoader, RandomSampler\n",
    "from torchvision import transforms as trans\n",
    "from torchvision.datasets import ImageFolder\n",
    "from PIL import Image, ImageFile\n",
    "import numpy as np\n",
    "import cv2\n",
    "import pickle\n",
    "import torch\n",
    "import sys\n",
    "from torch.autograd import Variable\n",
    "import torch.nn.functional as F \n",
    "import matplotlib.pyplot as plt\n",
    "import PIL\n",
    "%matplotlib inline\n",
    "from pathlib import Path\n",
    "from torch import nn\n",
    "from torchvision import transforms as trans\n",
    "from os import path\n",
    "from pathlib import Path\n",
    "import os\n",
    "from itertools import product\n",
    "import re\n",
    "from tqdm.notebook import tqdm as tqdm_notebook\n",
    "import math\n",
    "from functools import partial"
   ]
  },
  {
   "cell_type": "code",
   "execution_count": 2,
   "metadata": {},
   "outputs": [
    {
     "name": "stdout",
     "output_type": "stream",
     "text": [
      "2 resnet18 models generated\n"
     ]
    }
   ],
   "source": [
    "conf = get_config(2)\n",
    "conf.device = 'cpu'\n",
    "conf.net_mode = 'resnet18'\n",
    "conf.n_shapes = 1\n",
    "conf.n_colors = 3\n",
    "conf.shape_only = False\n",
    "conf.color_only = False\n",
    "learner = ShapeLearner(conf, inference=True)"
   ]
  },
  {
   "cell_type": "markdown",
   "metadata": {},
   "source": [
    "## generate OOD shape/color"
   ]
  },
  {
   "cell_type": "code",
   "execution_count": 3,
   "metadata": {},
   "outputs": [],
   "source": [
    "def set_distractors(learner):\n",
    "    # set OOD data\n",
    "    triangle_ds = ShapeDataSet(no_bkg=True)\n",
    "    triangle_ds.shapes = ['triangle']\n",
    "    triangle_ds.colors = [[(255, 255), (0, 0), (0, 0)],\n",
    "                           [(0, 0), (255, 255), (0, 0)],\n",
    "                           [(0, 0), (0, 0), (255, 255)]]\n",
    "    triangle_ds.n_shapes = 1\n",
    "    triangle_ds.n_colors = 3\n",
    "    ziped_classes = enumerate(product(range(1), range(3)))\n",
    "    triangle_ds.label_map = {v:-1 for k, v in ziped_classes}\n",
    "    triangle_ds.label_names = [-1]\n",
    "    learner.ds = triangle_ds\n",
    "    \n",
    "    dloader_args = {\n",
    "            'batch_size': 32,\n",
    "            'pin_memory': True,\n",
    "            'num_workers': conf.num_workers,\n",
    "            'drop_last': False,\n",
    "    }\n",
    "    learner.loader = DataLoader(learner.ds, **dloader_args)\n",
    "    eval_sampler = RandomSampler(learner.ds, replacement=True, num_samples=len(learner.ds) // 10)\n",
    "    learner.eval_loader = DataLoader(learner.ds, sampler=eval_sampler, **dloader_args)\n",
    "\n",
    "def set_probes(learner):\n",
    "    # set OOD data\n",
    "    triangle_ds = ShapeDataSet(no_bkg=True)\n",
    "    triangle_ds.shapes = ['rectangle', 'circle']\n",
    "    triangle_ds.colors = [[(255, 255), (0, 0), (0, 0)],\n",
    "                           [(0, 0), (255, 255), (0, 0)],\n",
    "                         ]#[(0, 0), (0, 0), (255, 255)]]\n",
    "    triangle_ds.n_shapes = 2\n",
    "    triangle_ds.n_colors = 2 # TODO fix this! we need the right 2 in the right order!\n",
    "    ziped_classes = enumerate(product(range(triangle_ds.n_shapes), range(triangle_ds.n_colors)))\n",
    "    triangle_ds.label_map = {v:k for k, v in ziped_classes}\n",
    "    triangle_ds.label_names = [str(x) for x in product(triangle_ds.shapes, range(triangle_ds.n_colors))]\n",
    "    learner.ds = triangle_ds\n",
    "    \n",
    "    dloader_args = {\n",
    "            'batch_size': 32,\n",
    "            'pin_memory': True,\n",
    "            'num_workers': conf.num_workers,\n",
    "            'drop_last': False,\n",
    "    }\n",
    "    learner.loader = DataLoader(learner.ds, **dloader_args)\n",
    "    eval_sampler = RandomSampler(learner.ds, replacement=True, num_samples=len(learner.ds) // 10)\n",
    "    learner.eval_loader = DataLoader(learner.ds, sampler=eval_sampler, **dloader_args)\n",
    "    \n",
    "def get_evaluation(learner):\n",
    "    # evaluate OOD data\n",
    "    for i in range(len(learner.models)):\n",
    "        learner.models[i].eval()\n",
    "    do_mean = -1 if len(learner.models) > 1 else 0\n",
    "    ind_iter = range(do_mean, len(learner.models))\n",
    "    predictions = dict(zip(ind_iter, [[] for i in ind_iter]))\n",
    "    prob = dict(zip(ind_iter, [[] for i in ind_iter]))\n",
    "    labels = []\n",
    "    learner.eval_loader.dataset.set_mode('test')  # todo check this works :)\n",
    "    for imgs, label in tqdm_notebook(learner.eval_loader, total=len(learner.eval_loader)):\n",
    "        imgs = imgs.to(conf.device)\n",
    "        thetas = [model(imgs).detach() for model in learner.models]\n",
    "        if len(learner.models) > 1: thetas = [torch.mean(torch.stack(thetas), 0)] + thetas\n",
    "        for ind, theta in zip(range(do_mean, len(learner.models)), thetas):\n",
    "            val, arg = torch.max(theta, dim=1)\n",
    "            predictions[ind].append(arg.cpu().numpy())\n",
    "            prob[ind].append(theta.cpu().numpy())\n",
    "        labels.append(label.detach().cpu().numpy())\n",
    "\n",
    "    labels = np.hstack(labels)\n",
    "    for ind in range(do_mean, len(learner.models)):\n",
    "        predictions[ind] = np.hstack(predictions[ind])\n",
    "        prob[ind] = np.vstack(prob[ind])\n",
    "    return prob, predictions, labels"
   ]
  },
  {
   "cell_type": "markdown",
   "metadata": {},
   "source": [
    "## Load Models"
   ]
  },
  {
   "cell_type": "code",
   "execution_count": 11,
   "metadata": {},
   "outputs": [],
   "source": [
    "dloader_args = {\n",
    "            'batch_size': 64,\n",
    "            'pin_memory': True,\n",
    "            'num_workers': conf.num_workers,\n",
    "            'drop_last': False,\n",
    "}\n",
    "learner.loader = DataLoader(learner.ds, **dloader_args)\n",
    "eval_sampler = RandomSampler(learner.ds, replacement=True, num_samples=len(learner.ds) // 10)\n",
    "learner.eval_loader = DataLoader(learner.ds, sampler=eval_sampler, **dloader_args)"
   ]
  },
  {
   "cell_type": "code",
   "execution_count": 12,
   "metadata": {},
   "outputs": [],
   "source": [
    "MODEL_DIR = 'work_space/save/shapes_pre_v2'\n",
    "rel_dirs = os.listdir(MODEL_DIR)\n",
    "alpha = [re.findall('a=([0-9, \\.]*)_', d)[0] for d in rel_dirs if 'model' in d]\n",
    "fix_str = [x for x in os.listdir(path.join(MODEL_DIR, rel_dirs[0]))][0][8:]"
   ]
  },
  {
   "cell_type": "markdown",
   "metadata": {},
   "source": [
    "## evaluate OOD samples"
   ]
  },
  {
   "cell_type": "code",
   "execution_count": 7,
   "metadata": {
    "scrolled": false
   },
   "outputs": [],
   "source": [
    "def get_TTR_FTR_curve():\n",
    "    open_set_1st_labels_0 = np.argmax(distractors_prob[0], 1)\n",
    "    open_set_1st_labels_1 = np.argmax(distractors_prob[1], 1)\n",
    "    open_set_1st_scores_0 = np.max(distractors_prob[0], 1)\n",
    "    open_set_1st_scores_1 = np.max(distractors_prob[1], 1)\n",
    "\n",
    "    mean_pred = np.argmax(prob_prob[-1], 1)\n",
    "    mean_score = np.max(prob_prob[-1], 1)\n",
    "\n",
    "    a = np.sum((open_set_1st_labels_0 == open_set_1st_labels_1))\n",
    "    b = len(prob_labels)\n",
    "    corr = (100.0*a / b)\n",
    "\n",
    "    prev_FTR = -1\n",
    "    prev_TTR = -1\n",
    "    THs = []\n",
    "    TTRs = []\n",
    "    FTRs = []\n",
    "    for i, TH in enumerate(np.arange(0, 1, 0.00001)):\n",
    "        FTR = np.sum((open_set_1st_labels_0 == open_set_1st_labels_1) & (open_set_1st_scores_0 > TH) & (open_set_1st_scores_1 > TH)) / b\n",
    "        TTR = np.sum((mean_score > TH) & (mean_pred == prob_labels)) / b\n",
    "\n",
    "        if (prev_FTR != FTR and prev_TTR != TTR) or (i%100 == 0):\n",
    "            prev_FTR = FTR\n",
    "            prev_TTR = TTR\n",
    "            THs.append(TH)\n",
    "            TTRs.append(TTR)\n",
    "            FTRs.append(FTR)\n",
    "    return THs, TTRs, FTRs, corr\n"
   ]
  },
  {
   "cell_type": "code",
   "execution_count": 73,
   "metadata": {
    "scrolled": true
   },
   "outputs": [
    {
     "data": {
      "application/vnd.jupyter.widget-view+json": {
       "model_id": "16f489c2166a49778f39f1050e34f22f",
       "version_major": 2,
       "version_minor": 0
      },
      "text/plain": [
       "HBox(children=(FloatProgress(value=0.0, max=10.0), HTML(value='')))"
      ]
     },
     "metadata": {},
     "output_type": "display_data"
    },
    {
     "name": "stdout",
     "output_type": "stream",
     "text": [
      "\n"
     ]
    },
    {
     "data": {
      "application/vnd.jupyter.widget-view+json": {
       "model_id": "6d3c0006087547c2b115a5244391a022",
       "version_major": 2,
       "version_minor": 0
      },
      "text/plain": [
       "HBox(children=(FloatProgress(value=0.0, max=10.0), HTML(value='')))"
      ]
     },
     "metadata": {},
     "output_type": "display_data"
    },
    {
     "name": "stdout",
     "output_type": "stream",
     "text": [
      "\n",
      "0.95 0.0\n"
     ]
    },
    {
     "data": {
      "application/vnd.jupyter.widget-view+json": {
       "model_id": "22ce737f618c42dfa59753a4e8ece876",
       "version_major": 2,
       "version_minor": 0
      },
      "text/plain": [
       "HBox(children=(FloatProgress(value=0.0, max=10.0), HTML(value='')))"
      ]
     },
     "metadata": {},
     "output_type": "display_data"
    },
    {
     "name": "stdout",
     "output_type": "stream",
     "text": [
      "\n"
     ]
    },
    {
     "data": {
      "application/vnd.jupyter.widget-view+json": {
       "model_id": "819daf18a19349be9d43416641f569c5",
       "version_major": 2,
       "version_minor": 0
      },
      "text/plain": [
       "HBox(children=(FloatProgress(value=0.0, max=10.0), HTML(value='')))"
      ]
     },
     "metadata": {},
     "output_type": "display_data"
    },
    {
     "name": "stdout",
     "output_type": "stream",
     "text": [
      "\n",
      "0.99 0.0\n"
     ]
    },
    {
     "data": {
      "application/vnd.jupyter.widget-view+json": {
       "model_id": "c2f9133ce310438ab0608e1e6b85d4d0",
       "version_major": 2,
       "version_minor": 0
      },
      "text/plain": [
       "HBox(children=(FloatProgress(value=0.0, max=10.0), HTML(value='')))"
      ]
     },
     "metadata": {},
     "output_type": "display_data"
    },
    {
     "name": "stdout",
     "output_type": "stream",
     "text": [
      "\n"
     ]
    },
    {
     "data": {
      "application/vnd.jupyter.widget-view+json": {
       "model_id": "be3384425aae46d3a5804f91dd743e80",
       "version_major": 2,
       "version_minor": 0
      },
      "text/plain": [
       "HBox(children=(FloatProgress(value=0.0, max=10.0), HTML(value='')))"
      ]
     },
     "metadata": {},
     "output_type": "display_data"
    },
    {
     "name": "stdout",
     "output_type": "stream",
     "text": [
      "\n",
      "0.9 28.2\n"
     ]
    },
    {
     "data": {
      "application/vnd.jupyter.widget-view+json": {
       "model_id": "4f25d6422686429382a30bebf930f1fa",
       "version_major": 2,
       "version_minor": 0
      },
      "text/plain": [
       "HBox(children=(FloatProgress(value=0.0, max=10.0), HTML(value='')))"
      ]
     },
     "metadata": {},
     "output_type": "display_data"
    },
    {
     "name": "stdout",
     "output_type": "stream",
     "text": [
      "\n"
     ]
    },
    {
     "data": {
      "application/vnd.jupyter.widget-view+json": {
       "model_id": "33f3cf2d51244596b7beec4af7325e78",
       "version_major": 2,
       "version_minor": 0
      },
      "text/plain": [
       "HBox(children=(FloatProgress(value=0.0, max=10.0), HTML(value='')))"
      ]
     },
     "metadata": {},
     "output_type": "display_data"
    },
    {
     "name": "stdout",
     "output_type": "stream",
     "text": [
      "\n",
      "0.75 33.0\n"
     ]
    },
    {
     "data": {
      "application/vnd.jupyter.widget-view+json": {
       "model_id": "a268eb46cb0148209b0b4d2cccfe8b67",
       "version_major": 2,
       "version_minor": 0
      },
      "text/plain": [
       "HBox(children=(FloatProgress(value=0.0, max=10.0), HTML(value='')))"
      ]
     },
     "metadata": {},
     "output_type": "display_data"
    },
    {
     "name": "stdout",
     "output_type": "stream",
     "text": [
      "\n"
     ]
    },
    {
     "data": {
      "application/vnd.jupyter.widget-view+json": {
       "model_id": "35b52d2e9fcb44b6b2bed66f8c427186",
       "version_major": 2,
       "version_minor": 0
      },
      "text/plain": [
       "HBox(children=(FloatProgress(value=0.0, max=10.0), HTML(value='')))"
      ]
     },
     "metadata": {},
     "output_type": "display_data"
    },
    {
     "name": "stdout",
     "output_type": "stream",
     "text": [
      "\n",
      "0 84.9\n"
     ]
    }
   ],
   "source": [
    "res_dir = dict.fromkeys(alpha)\n",
    "for model_path, curr_alpha in zip(rel_dirs, alpha):\n",
    "    conf.save_path = Path(path.join(MODEL_DIR, model_path))\n",
    "    fix_str = [x for x in os.listdir(path.join(MODEL_DIR, model_path)) if 'model' in x][0][8:]\n",
    "    learner.load_state(conf, fix_str, model_only=True, from_save_folder=True)\n",
    "    \n",
    "    # distractors\n",
    "    set_distractors(learner)\n",
    "    distractors_prob, distractors_predictions, distractors_labels = get_evaluation(learner)\n",
    "\n",
    "    # probs\n",
    "    set_probes(learner)\n",
    "    prob_prob, prob_predictions, prob_labels = get_evaluation(learner)\n",
    "    THs, TTRs, FTRs, corr = get_TTR_FTR_curve()\n",
    "    print(curr_alpha, corr)\n",
    "    res_dir[curr_alpha] = [THs, TTRs, FTRs, corr]"
   ]
  },
  {
   "cell_type": "code",
   "execution_count": 99,
   "metadata": {
    "scrolled": false
   },
   "outputs": [
    {
     "data": {
      "image/png": "[encoded data removed]",
      "text/plain": [
       "<Figure size 504x504 with 5 Axes>"
      ]
     },
     "metadata": {},
     "output_type": "display_data"
    }
   ],
   "source": [
    "fig, ax = plt.subplots(5, figsize=(7,7))\n",
    "ax = ax[:]\n",
    "for i, (curr_alpha, curr_color) in enumerate(zip(sorted(alpha), 'rgbyc')):\n",
    "    THs, TTRs, FTRs, corr = res_dir[curr_alpha]\n",
    "    ax[i].plot(THs, TTRs, label=str(curr_alpha)+': TTR', color=curr_color, linestyle='dotted')\n",
    "    ax[i].plot(THs, FTRs, label=str(curr_alpha)+': FTR', color=curr_color, linestyle='--')\n",
    "    ax[i].legend(loc='center left', bbox_to_anchor=(-.4, 0.5))\n",
    "    ax[i].set_ylim([-.1,1.1])\n",
    "    ax[i].set_ylabel('corr: '+ str(corr))\n",
    "plt.xlabel('Thresholds')\n",
    "plt.tight_layout()"
   ]
  },
  {
   "cell_type": "markdown",
   "metadata": {},
   "source": [
    "## testing attacks "
   ]
  },
  {
   "cell_type": "code",
   "execution_count": 8,
   "metadata": {},
   "outputs": [],
   "source": [
    "import torchvision.models as models\n",
    "import eagerpy as ep\n",
    "from foolbox import PyTorchModel, accuracy, samples\n",
    "from foolbox.attacks import LinfPGD"
   ]
  },
  {
   "cell_type": "code",
   "execution_count": 9,
   "metadata": {
    "scrolled": true
   },
   "outputs": [],
   "source": [
    "for images, labels in learner.eval_loader:\n",
    "    images, labels = ep.astensors(images.to('cuda'), labels.to('cuda'))\n",
    "    break"
   ]
  },
  {
   "cell_type": "code",
   "execution_count": 10,
   "metadata": {},
   "outputs": [],
   "source": [
    "class JointModel(torch.nn.Module):\n",
    "    def __init__(self, models, device=None):\n",
    "        super(JointModel, self).__init__()\n",
    "        self.models = models\n",
    "    \n",
    "    def to(self, device):\n",
    "        for model in self.models:\n",
    "            model.to(device)\n",
    "    \n",
    "    def forward(self, x):\n",
    "        res = []\n",
    "        for model in self.models:\n",
    "            res.append(model(x))\n",
    "        return torch.stack(res, 1).mean(1)"
   ]
  },
  {
   "cell_type": "code",
   "execution_count": 30,
   "metadata": {},
   "outputs": [],
   "source": [
    "class JointModelEP(torch.nn.Module):\n",
    "    def __init__(self, models, device=None):\n",
    "        super(JointModelEP, self).__init__()\n",
    "        self.models = models\n",
    "        self.bounds = models[0].bounds\n",
    "    \"\"\"    \n",
    "    def to(self, device):\n",
    "        for model in self.models:\n",
    "            model.to(device)\n",
    "    \"\"\"\n",
    "    def forward(self, x):\n",
    "        res = []\n",
    "        for model in self.models:\n",
    "            res.append(model(x))\n",
    "        return ep.stack(res, 1).mean(1)\n",
    "    "
   ]
  },
  {
   "cell_type": "code",
   "execution_count": 60,
   "metadata": {},
   "outputs": [],
   "source": [
    "from foolbox.attacks import FGSM, L2BasicIterativeAttack as BIM, PGD, \\\n",
    "                            L2CarliniWagnerAttack as CaW, EADAttack as EAD, \\\n",
    "                            L2BrendelBethgeAttack as MIM_maybe\n",
    "# Momentum Iterative Method (MIM)\n",
    "# Jacobian-based Saliency Map Attack (JSMA) \n",
    "attack_list = [\n",
    "    (FGSM, 0.002),\n",
    "    (FGSM, 0.004),\n",
    "    (partial(BIM, rel_stepsize=0.1, steps=10), 0.01),\n",
    "    (partial(BIM, rel_stepsize=0.1, steps=10), 0.02),\n",
    "    (partial(PGD, rel_stepsize=0.1, steps=10), 0.01),\n",
    "    (partial(PGD, rel_stepsize=0.1, steps=10), 0.02),\n",
    "    #(partial(MIM_maybe, lr=0.01), 0.01),\n",
    "    #(partial(MIM_maybe, lr=0.01), 0.02),\n",
    "    (partial(CaW, steps=1000, stepsize=0.01), 0.001),\n",
    "    (partial(CaW, steps=1000, stepsize=0.01), 0.01),\n",
    "    (partial(CaW, steps=1000, stepsize=0.01), 0.1),\n",
    "    (partial(EAD, steps=1000, initial_stepsize=0.01), 1),\n",
    "    (partial(EAD, steps=1000, initial_stepsize=0.01), 5),\n",
    "]\n",
    "\n",
    "attack_list_names = [\n",
    "    '(FGSM, 0.002)',\n",
    "    '(FGSM, 0.004)',\n",
    "    '(BIM, 0.01)',\n",
    "    '(BIM, 0.02)',\n",
    "    #'(MIM, 0.01)',\n",
    "    #'(MIM, 0.02)',\n",
    "    '(PGD, 0.01)',\n",
    "    '(PGD, 0.02)',\n",
    "    '(CaW, 0.001)',\n",
    "    '(CaW, 0.01)',\n",
    "    '(CaW, 0.1)',\n",
    "    '(EAD, 1)',\n",
    "    '(EAD, 5)'\n",
    "]"
   ]
  },
  {
   "cell_type": "code",
   "execution_count": 157,
   "metadata": {},
   "outputs": [],
   "source": [
    "attack_list = [\n",
    "    (FGSM, [0.002, 0.004]),\n",
    "    (partial(BIM, rel_stepsize=0.1, steps=10), [0.01, 0.02]),\n",
    "    (partial(PGD, rel_stepsize=0.1, steps=10), [0.01, 0.02]),\n",
    "    (partial(CaW, steps=1000, stepsize=0.01, confidence=0.001), [0.001]),\n",
    "    (partial(CaW, steps=1000, stepsize=0.01, confidence=0.01), [0.01]),\n",
    "    (partial(CaW, steps=1000, stepsize=0.01, confidence=0.1), [0.1]),\n",
    "    (partial(EAD, steps=1000, initial_stepsize=0.01, confidence=1), [1]),\n",
    "    (partial(EAD, steps=1000, initial_stepsize=0.01, confidence=5), [5])\n",
    "    #(partial(MIM_maybe, lr=0.01), [0.01, 0.02]),\n",
    "]\n",
    "\n",
    "attack_list_names = [\n",
    "    'FGSM',\n",
    "    'BIM',\n",
    "    'PGD',\n",
    "    'CaW',\n",
    "    'CaW',\n",
    "    'CaW',\n",
    "    'EAD',\n",
    "    'EAD'\n",
    "    #'(MIM, 0.01)',\n",
    "    #'(MIM, 0.02)',\n",
    "]"
   ]
  },
  {
   "cell_type": "code",
   "execution_count": 158,
   "metadata": {
    "scrolled": false
   },
   "outputs": [
    {
     "data": {
      "application/vnd.jupyter.widget-view+json": {
       "model_id": "72c3d53fb839409cb7fd78ed0f3fb708",
       "version_major": 2,
       "version_minor": 0
      },
      "text/plain": [
       "HBox(children=(FloatProgress(value=0.0, max=5.0), HTML(value='')))"
      ]
     },
     "metadata": {},
     "output_type": "display_data"
    },
    {
     "data": {
      "application/vnd.jupyter.widget-view+json": {
       "model_id": "9a27b29d9724426aba2da04c98454dd9",
       "version_major": 2,
       "version_minor": 0
      },
      "text/plain": [
       "HBox(children=(FloatProgress(value=0.0, description='attaking 0.95', max=8.0, style=ProgressStyle(description_…"
      ]
     },
     "metadata": {},
     "output_type": "display_data"
    },
    {
     "data": {
      "application/vnd.jupyter.widget-view+json": {
       "model_id": "d311aec444a34bad8cacbef898c32e7e",
       "version_major": 2,
       "version_minor": 0
      },
      "text/plain": [
       "HBox(children=(FloatProgress(value=0.0, description='FGSM', max=32.0, style=ProgressStyle(description_width='i…"
      ]
     },
     "metadata": {},
     "output_type": "display_data"
    },
    {
     "name": "stdout",
     "output_type": "stream",
     "text": [
      "\n"
     ]
    },
    {
     "data": {
      "application/vnd.jupyter.widget-view+json": {
       "model_id": "c2b171f9f7024f6b8d5a178bb3f6c17e",
       "version_major": 2,
       "version_minor": 0
      },
      "text/plain": [
       "HBox(children=(FloatProgress(value=0.0, description='BIM', max=32.0, style=ProgressStyle(description_width='in…"
      ]
     },
     "metadata": {},
     "output_type": "display_data"
    },
    {
     "name": "stdout",
     "output_type": "stream",
     "text": [
      "\n"
     ]
    },
    {
     "data": {
      "application/vnd.jupyter.widget-view+json": {
       "model_id": "494ee8f76d5b4f1ab04182fc9a6f5abd",
       "version_major": 2,
       "version_minor": 0
      },
      "text/plain": [
       "HBox(children=(FloatProgress(value=0.0, description='PGD', max=32.0, style=ProgressStyle(description_width='in…"
      ]
     },
     "metadata": {},
     "output_type": "display_data"
    },
    {
     "name": "stdout",
     "output_type": "stream",
     "text": [
      "\n"
     ]
    },
    {
     "data": {
      "application/vnd.jupyter.widget-view+json": {
       "model_id": "16c313f59f9540d9958db08f3dad3339",
       "version_major": 2,
       "version_minor": 0
      },
      "text/plain": [
       "HBox(children=(FloatProgress(value=0.0, description='CaW', max=32.0, style=ProgressStyle(description_width='in…"
      ]
     },
     "metadata": {},
     "output_type": "display_data"
    },
    {
     "name": "stdout",
     "output_type": "stream",
     "text": [
      "\n",
      "\n",
      "\n"
     ]
    },
    {
     "ename": "KeyboardInterrupt",
     "evalue": "",
     "output_type": "error",
     "traceback": [
      "\u001b[0;31m---------------------------------------------------------------------------\u001b[0m",
      "\u001b[0;31mKeyboardInterrupt\u001b[0m                         Traceback (most recent call last)",
      "\u001b[0;32m<ipython-input-158-2b780aa9308a>\u001b[0m in \u001b[0;36m<module>\u001b[0;34m()\u001b[0m\n\u001b[1;32m     21\u001b[0m         \u001b[0;32mfor\u001b[0m \u001b[0mimages\u001b[0m\u001b[0;34m,\u001b[0m \u001b[0mlabels\u001b[0m \u001b[0;32min\u001b[0m \u001b[0mtqdm_notebook\u001b[0m\u001b[0;34m(\u001b[0m\u001b[0mlearner\u001b[0m\u001b[0;34m.\u001b[0m\u001b[0meval_loader\u001b[0m\u001b[0;34m,\u001b[0m \u001b[0mtotal\u001b[0m\u001b[0;34m=\u001b[0m\u001b[0mlen\u001b[0m\u001b[0;34m(\u001b[0m\u001b[0mlearner\u001b[0m\u001b[0;34m.\u001b[0m\u001b[0meval_loader\u001b[0m\u001b[0;34m)\u001b[0m\u001b[0;34m,\u001b[0m \u001b[0mdesc\u001b[0m\u001b[0;34m=\u001b[0m\u001b[0mattack_name\u001b[0m\u001b[0;34m)\u001b[0m\u001b[0;34m:\u001b[0m\u001b[0;34m\u001b[0m\u001b[0m\n\u001b[1;32m     22\u001b[0m             \u001b[0mimages\u001b[0m\u001b[0;34m,\u001b[0m \u001b[0mlabels\u001b[0m \u001b[0;34m=\u001b[0m \u001b[0mep\u001b[0m\u001b[0;34m.\u001b[0m\u001b[0mastensors\u001b[0m\u001b[0;34m(\u001b[0m\u001b[0mimages\u001b[0m\u001b[0;34m.\u001b[0m\u001b[0mto\u001b[0m\u001b[0;34m(\u001b[0m\u001b[0;34m'cuda'\u001b[0m\u001b[0;34m)\u001b[0m\u001b[0;34m,\u001b[0m \u001b[0mlabels\u001b[0m\u001b[0;34m.\u001b[0m\u001b[0mto\u001b[0m\u001b[0;34m(\u001b[0m\u001b[0;34m'cuda'\u001b[0m\u001b[0;34m)\u001b[0m\u001b[0;34m)\u001b[0m\u001b[0;34m\u001b[0m\u001b[0m\n\u001b[0;32m---> 23\u001b[0;31m             \u001b[0m_\u001b[0m\u001b[0;34m,\u001b[0m \u001b[0m_\u001b[0m\u001b[0;34m,\u001b[0m \u001b[0msuccess\u001b[0m \u001b[0;34m=\u001b[0m \u001b[0mattack\u001b[0m\u001b[0;34m(\u001b[0m\u001b[0mfmodel\u001b[0m\u001b[0;34m,\u001b[0m \u001b[0mimages\u001b[0m\u001b[0;34m,\u001b[0m \u001b[0mlabels\u001b[0m\u001b[0;34m,\u001b[0m \u001b[0mepsilons\u001b[0m\u001b[0;34m=\u001b[0m\u001b[0meps\u001b[0m\u001b[0;34m)\u001b[0m\u001b[0;34m\u001b[0m\u001b[0m\n\u001b[0m\u001b[1;32m     24\u001b[0m             \u001b[0msuccess_tot\u001b[0m\u001b[0;34m.\u001b[0m\u001b[0mappend\u001b[0m\u001b[0;34m(\u001b[0m\u001b[0msuccess\u001b[0m\u001b[0;34m)\u001b[0m\u001b[0;34m\u001b[0m\u001b[0m\n\u001b[1;32m     25\u001b[0m         \u001b[0msuccess_tot\u001b[0m \u001b[0;34m=\u001b[0m \u001b[0mep\u001b[0m\u001b[0;34m.\u001b[0m\u001b[0mconcatenate\u001b[0m\u001b[0;34m(\u001b[0m\u001b[0msuccess_tot\u001b[0m\u001b[0;34m,\u001b[0m \u001b[0;34m-\u001b[0m\u001b[0;36m1\u001b[0m\u001b[0;34m)\u001b[0m\u001b[0;34m\u001b[0m\u001b[0m\n",
      "\u001b[0;32m~/anaconda3/lib/python3.6/site-packages/foolbox/attacks/base.py\u001b[0m in \u001b[0;36m__call__\u001b[0;34m(***failed resolving arguments***)\u001b[0m\n\u001b[1;32m    408\u001b[0m \u001b[0;34m\u001b[0m\u001b[0m\n\u001b[1;32m    409\u001b[0m         \u001b[0;31m# run the actual attack\u001b[0m\u001b[0;34m\u001b[0m\u001b[0;34m\u001b[0m\u001b[0m\n\u001b[0;32m--> 410\u001b[0;31m         \u001b[0mxp\u001b[0m \u001b[0;34m=\u001b[0m \u001b[0mself\u001b[0m\u001b[0;34m.\u001b[0m\u001b[0mrun\u001b[0m\u001b[0;34m(\u001b[0m\u001b[0mmodel\u001b[0m\u001b[0;34m,\u001b[0m \u001b[0mx\u001b[0m\u001b[0;34m,\u001b[0m \u001b[0mcriterion\u001b[0m\u001b[0;34m,\u001b[0m \u001b[0mearly_stop\u001b[0m\u001b[0;34m=\u001b[0m\u001b[0mearly_stop\u001b[0m\u001b[0;34m,\u001b[0m \u001b[0;34m**\u001b[0m\u001b[0mkwargs\u001b[0m\u001b[0;34m)\u001b[0m\u001b[0;34m\u001b[0m\u001b[0m\n\u001b[0m\u001b[1;32m    411\u001b[0m \u001b[0;34m\u001b[0m\u001b[0m\n\u001b[1;32m    412\u001b[0m         \u001b[0mxpcs\u001b[0m \u001b[0;34m=\u001b[0m \u001b[0;34m[\u001b[0m\u001b[0;34m]\u001b[0m\u001b[0;34m\u001b[0m\u001b[0m\n",
      "\u001b[0;32m~/anaconda3/lib/python3.6/site-packages/foolbox/attacks/carlini_wagner.py\u001b[0m in \u001b[0;36mrun\u001b[0;34m(***failed resolving arguments***)\u001b[0m\n\u001b[1;32m    172\u001b[0m                     \u001b[0mloss_at_previous_check\u001b[0m \u001b[0;34m=\u001b[0m \u001b[0mloss\u001b[0m\u001b[0;34m\u001b[0m\u001b[0m\n\u001b[1;32m    173\u001b[0m \u001b[0;34m\u001b[0m\u001b[0m\n\u001b[0;32m--> 174\u001b[0;31m                 \u001b[0mfound_advs_iter\u001b[0m \u001b[0;34m=\u001b[0m \u001b[0mis_adversarial\u001b[0m\u001b[0;34m(\u001b[0m\u001b[0mperturbed\u001b[0m\u001b[0;34m,\u001b[0m \u001b[0mlogits\u001b[0m\u001b[0;34m)\u001b[0m\u001b[0;34m\u001b[0m\u001b[0m\n\u001b[0m\u001b[1;32m    175\u001b[0m                 \u001b[0mfound_advs\u001b[0m \u001b[0;34m=\u001b[0m \u001b[0mnp\u001b[0m\u001b[0;34m.\u001b[0m\u001b[0mlogical_or\u001b[0m\u001b[0;34m(\u001b[0m\u001b[0mfound_advs\u001b[0m\u001b[0;34m,\u001b[0m \u001b[0mfound_advs_iter\u001b[0m\u001b[0;34m.\u001b[0m\u001b[0mnumpy\u001b[0m\u001b[0;34m(\u001b[0m\u001b[0;34m)\u001b[0m\u001b[0;34m)\u001b[0m\u001b[0;34m\u001b[0m\u001b[0m\n\u001b[1;32m    176\u001b[0m \u001b[0;34m\u001b[0m\u001b[0m\n",
      "\u001b[0;32m~/anaconda3/lib/python3.6/site-packages/foolbox/attacks/carlini_wagner.py\u001b[0m in \u001b[0;36mis_adversarial\u001b[0;34m(perturbed, logits)\u001b[0m\n\u001b[1;32m     89\u001b[0m         \u001b[0;32mdef\u001b[0m \u001b[0mis_adversarial\u001b[0m\u001b[0;34m(\u001b[0m\u001b[0mperturbed\u001b[0m\u001b[0;34m:\u001b[0m \u001b[0mep\u001b[0m\u001b[0;34m.\u001b[0m\u001b[0mTensor\u001b[0m\u001b[0;34m,\u001b[0m \u001b[0mlogits\u001b[0m\u001b[0;34m:\u001b[0m \u001b[0mep\u001b[0m\u001b[0;34m.\u001b[0m\u001b[0mTensor\u001b[0m\u001b[0;34m)\u001b[0m \u001b[0;34m->\u001b[0m \u001b[0mep\u001b[0m\u001b[0;34m.\u001b[0m\u001b[0mTensor\u001b[0m\u001b[0;34m:\u001b[0m\u001b[0;34m\u001b[0m\u001b[0m\n\u001b[1;32m     90\u001b[0m             \u001b[0;32mif\u001b[0m \u001b[0mchange_classes_logits\u001b[0m \u001b[0;34m!=\u001b[0m \u001b[0;36m0\u001b[0m\u001b[0;34m:\u001b[0m\u001b[0;34m\u001b[0m\u001b[0m\n\u001b[0;32m---> 91\u001b[0;31m                 \u001b[0mlogits\u001b[0m \u001b[0;34m+=\u001b[0m \u001b[0mep\u001b[0m\u001b[0;34m.\u001b[0m\u001b[0monehot_like\u001b[0m\u001b[0;34m(\u001b[0m\u001b[0mlogits\u001b[0m\u001b[0;34m,\u001b[0m \u001b[0mclasses\u001b[0m\u001b[0;34m,\u001b[0m \u001b[0mvalue\u001b[0m\u001b[0;34m=\u001b[0m\u001b[0mchange_classes_logits\u001b[0m\u001b[0;34m)\u001b[0m\u001b[0;34m\u001b[0m\u001b[0m\n\u001b[0m\u001b[1;32m     92\u001b[0m             \u001b[0;32mreturn\u001b[0m \u001b[0mcriterion_\u001b[0m\u001b[0;34m(\u001b[0m\u001b[0mperturbed\u001b[0m\u001b[0;34m,\u001b[0m \u001b[0mlogits\u001b[0m\u001b[0;34m)\u001b[0m\u001b[0;34m\u001b[0m\u001b[0m\n\u001b[1;32m     93\u001b[0m \u001b[0;34m\u001b[0m\u001b[0m\n",
      "\u001b[0;32m~/anaconda3/lib/python3.6/site-packages/eagerpy/framework.py\u001b[0m in \u001b[0;36monehot_like\u001b[0;34m(t, indices, value)\u001b[0m\n\u001b[1;32m    150\u001b[0m \u001b[0;34m\u001b[0m\u001b[0m\n\u001b[1;32m    151\u001b[0m \u001b[0;32mdef\u001b[0m \u001b[0monehot_like\u001b[0m\u001b[0;34m(\u001b[0m\u001b[0mt\u001b[0m\u001b[0;34m:\u001b[0m \u001b[0mTensorType\u001b[0m\u001b[0;34m,\u001b[0m \u001b[0mindices\u001b[0m\u001b[0;34m:\u001b[0m \u001b[0mTensorType\u001b[0m\u001b[0;34m,\u001b[0m \u001b[0;34m*\u001b[0m\u001b[0;34m,\u001b[0m \u001b[0mvalue\u001b[0m\u001b[0;34m:\u001b[0m \u001b[0mfloat\u001b[0m \u001b[0;34m=\u001b[0m \u001b[0;36m1\u001b[0m\u001b[0;34m)\u001b[0m \u001b[0;34m->\u001b[0m \u001b[0mTensorType\u001b[0m\u001b[0;34m:\u001b[0m\u001b[0;34m\u001b[0m\u001b[0m\n\u001b[0;32m--> 152\u001b[0;31m     \u001b[0;32mreturn\u001b[0m \u001b[0mt\u001b[0m\u001b[0;34m.\u001b[0m\u001b[0monehot_like\u001b[0m\u001b[0;34m(\u001b[0m\u001b[0mindices\u001b[0m\u001b[0;34m,\u001b[0m \u001b[0mvalue\u001b[0m\u001b[0;34m=\u001b[0m\u001b[0mvalue\u001b[0m\u001b[0;34m)\u001b[0m\u001b[0;34m\u001b[0m\u001b[0m\n\u001b[0m\u001b[1;32m    153\u001b[0m \u001b[0;34m\u001b[0m\u001b[0m\n\u001b[1;32m    154\u001b[0m \u001b[0;34m\u001b[0m\u001b[0m\n",
      "\u001b[0;32m~/anaconda3/lib/python3.6/site-packages/eagerpy/tensor/pytorch.py\u001b[0m in \u001b[0;36monehot_like\u001b[0;34m(self, indices, value)\u001b[0m\n\u001b[1;32m    237\u001b[0m         \u001b[0mx\u001b[0m \u001b[0;34m=\u001b[0m \u001b[0mtorch\u001b[0m\u001b[0;34m.\u001b[0m\u001b[0mzeros_like\u001b[0m\u001b[0;34m(\u001b[0m\u001b[0mself\u001b[0m\u001b[0;34m.\u001b[0m\u001b[0mraw\u001b[0m\u001b[0;34m)\u001b[0m\u001b[0;34m\u001b[0m\u001b[0m\n\u001b[1;32m    238\u001b[0m         \u001b[0mrows\u001b[0m \u001b[0;34m=\u001b[0m \u001b[0mnp\u001b[0m\u001b[0;34m.\u001b[0m\u001b[0marange\u001b[0m\u001b[0;34m(\u001b[0m\u001b[0mx\u001b[0m\u001b[0;34m.\u001b[0m\u001b[0mshape\u001b[0m\u001b[0;34m[\u001b[0m\u001b[0;36m0\u001b[0m\u001b[0;34m]\u001b[0m\u001b[0;34m)\u001b[0m\u001b[0;34m\u001b[0m\u001b[0m\n\u001b[0;32m--> 239\u001b[0;31m         \u001b[0mx\u001b[0m\u001b[0;34m[\u001b[0m\u001b[0mrows\u001b[0m\u001b[0;34m,\u001b[0m \u001b[0mindices\u001b[0m\u001b[0;34m.\u001b[0m\u001b[0mraw\u001b[0m\u001b[0;34m]\u001b[0m \u001b[0;34m=\u001b[0m \u001b[0mvalue\u001b[0m\u001b[0;34m\u001b[0m\u001b[0m\n\u001b[0m\u001b[1;32m    240\u001b[0m         \u001b[0;32mreturn\u001b[0m \u001b[0mtype\u001b[0m\u001b[0;34m(\u001b[0m\u001b[0mself\u001b[0m\u001b[0;34m)\u001b[0m\u001b[0;34m(\u001b[0m\u001b[0mx\u001b[0m\u001b[0;34m)\u001b[0m\u001b[0;34m\u001b[0m\u001b[0m\n\u001b[1;32m    241\u001b[0m \u001b[0;34m\u001b[0m\u001b[0m\n",
      "\u001b[0;31mKeyboardInterrupt\u001b[0m: "
     ]
    }
   ],
   "source": [
    "res = dict.fromkeys(alpha)\n",
    "\n",
    "for model_path, curr_alpha in tqdm_notebook(zip(rel_dirs, alpha), total=len(alpha)):\n",
    "    conf.save_path = Path(path.join(MODEL_DIR, model_path))\n",
    "    fix_str = [x for x in os.listdir(path.join(MODEL_DIR, model_path)) if 'model' in x][0][8:]\n",
    "    learner.load_state(conf, fix_str, model_only=True, from_save_folder=True)\n",
    "\n",
    "    # probs\n",
    "    set_probes(learner)\n",
    "\n",
    "    for model in learner.models:\n",
    "        model = torch.nn.DataParallel(model.cuda(), device_ids=list(range(4)))\n",
    "        model.eval()\n",
    "        \n",
    "    res[curr_alpha] = dict()\n",
    "    for (attack, eps), attack_name in tqdm_notebook(zip(attack_list, attack_list_names), \n",
    "                                                    desc='attaking '+str(curr_alpha), total=len(attack_list)):\n",
    "        fmodel = JointModelEP([PyTorchModel(m, bounds=(0,1)) for m in learner.models], 'cuda')\n",
    "        attack = attack()\n",
    "        success_tot = []\n",
    "        for images, labels in tqdm_notebook(learner.eval_loader, total=len(learner.eval_loader), desc=attack_name):\n",
    "            images, labels = ep.astensors(images.to('cuda'), labels.to('cuda'))\n",
    "            _, _, success = attack(fmodel, images, labels, epsilons=eps)\n",
    "            success_tot.append(success)\n",
    "        success_tot = ep.concatenate(success_tot, -1)\n",
    "\n",
    "        # calculate and report the robust accuracy\n",
    "        robust_accuracy = 1 - success.float32().mean(axis=-1)\n",
    "        for epsilon, acc in zip(eps, robust_accuracy): \n",
    "            res[curr_alpha][attack_name+'_'+str(epsilon)] = acc.item()\n",
    "        \n",
    "        pickle.dump(res, open('attack_res_shape.pkl', 'wb'))\n",
    "    pickle.dump(res, open('attack_res_shape.pkl', 'wb'))"
   ]
  },
  {
   "cell_type": "code",
   "execution_count": 122,
   "metadata": {
    "scrolled": true
   },
   "outputs": [
    {
     "data": {
      "text/html": [
       "<div>\n",
       "<style scoped>\n",
       "    .dataframe tbody tr th:only-of-type {\n",
       "        vertical-align: middle;\n",
       "    }\n",
       "\n",
       "    .dataframe tbody tr th {\n",
       "        vertical-align: top;\n",
       "    }\n",
       "\n",
       "    .dataframe thead th {\n",
       "        text-align: right;\n",
       "    }\n",
       "</style>\n",
       "<table border=\"1\" class=\"dataframe\">\n",
       "  <thead>\n",
       "    <tr style=\"text-align: right;\">\n",
       "      <th></th>\n",
       "      <th>0</th>\n",
       "      <th>0.75</th>\n",
       "      <th>0.9</th>\n",
       "      <th>0.95</th>\n",
       "      <th>0.99</th>\n",
       "    </tr>\n",
       "  </thead>\n",
       "  <tbody>\n",
       "    <tr>\n",
       "      <th>BIM</th>\n",
       "      <td>None</td>\n",
       "      <td>NaN</td>\n",
       "      <td>NaN</td>\n",
       "      <td>NaN</td>\n",
       "      <td>NaN</td>\n",
       "    </tr>\n",
       "    <tr>\n",
       "      <th>BIM_0.01</th>\n",
       "      <td>None</td>\n",
       "      <td>1.0</td>\n",
       "      <td>1.000</td>\n",
       "      <td>1.000</td>\n",
       "      <td>0.625</td>\n",
       "    </tr>\n",
       "    <tr>\n",
       "      <th>BIM_0.02</th>\n",
       "      <td>None</td>\n",
       "      <td>1.0</td>\n",
       "      <td>1.000</td>\n",
       "      <td>1.000</td>\n",
       "      <td>0.625</td>\n",
       "    </tr>\n",
       "    <tr>\n",
       "      <th>CaW</th>\n",
       "      <td>None</td>\n",
       "      <td>NaN</td>\n",
       "      <td>NaN</td>\n",
       "      <td>NaN</td>\n",
       "      <td>NaN</td>\n",
       "    </tr>\n",
       "    <tr>\n",
       "      <th>CaW_0.001</th>\n",
       "      <td>None</td>\n",
       "      <td>NaN</td>\n",
       "      <td>1.000</td>\n",
       "      <td>1.000</td>\n",
       "      <td>0.625</td>\n",
       "    </tr>\n",
       "    <tr>\n",
       "      <th>CaW_0.01</th>\n",
       "      <td>None</td>\n",
       "      <td>NaN</td>\n",
       "      <td>1.000</td>\n",
       "      <td>1.000</td>\n",
       "      <td>0.500</td>\n",
       "    </tr>\n",
       "    <tr>\n",
       "      <th>CaW_0.1</th>\n",
       "      <td>None</td>\n",
       "      <td>NaN</td>\n",
       "      <td>0.875</td>\n",
       "      <td>0.500</td>\n",
       "      <td>0.000</td>\n",
       "    </tr>\n",
       "    <tr>\n",
       "      <th>EAD</th>\n",
       "      <td>None</td>\n",
       "      <td>NaN</td>\n",
       "      <td>NaN</td>\n",
       "      <td>NaN</td>\n",
       "      <td>NaN</td>\n",
       "    </tr>\n",
       "    <tr>\n",
       "      <th>EAD_1</th>\n",
       "      <td>None</td>\n",
       "      <td>NaN</td>\n",
       "      <td>1.000</td>\n",
       "      <td>1.000</td>\n",
       "      <td>0.750</td>\n",
       "    </tr>\n",
       "    <tr>\n",
       "      <th>EAD_5</th>\n",
       "      <td>None</td>\n",
       "      <td>NaN</td>\n",
       "      <td>0.875</td>\n",
       "      <td>0.875</td>\n",
       "      <td>0.750</td>\n",
       "    </tr>\n",
       "    <tr>\n",
       "      <th>FGSM</th>\n",
       "      <td>None</td>\n",
       "      <td>NaN</td>\n",
       "      <td>NaN</td>\n",
       "      <td>NaN</td>\n",
       "      <td>NaN</td>\n",
       "    </tr>\n",
       "    <tr>\n",
       "      <th>FGSM_0.002</th>\n",
       "      <td>None</td>\n",
       "      <td>1.0</td>\n",
       "      <td>1.000</td>\n",
       "      <td>1.000</td>\n",
       "      <td>0.250</td>\n",
       "    </tr>\n",
       "    <tr>\n",
       "      <th>FGSM_0.004</th>\n",
       "      <td>None</td>\n",
       "      <td>1.0</td>\n",
       "      <td>1.000</td>\n",
       "      <td>1.000</td>\n",
       "      <td>0.250</td>\n",
       "    </tr>\n",
       "    <tr>\n",
       "      <th>PGD</th>\n",
       "      <td>None</td>\n",
       "      <td>NaN</td>\n",
       "      <td>NaN</td>\n",
       "      <td>NaN</td>\n",
       "      <td>NaN</td>\n",
       "    </tr>\n",
       "    <tr>\n",
       "      <th>PGD_0.01</th>\n",
       "      <td>None</td>\n",
       "      <td>0.0</td>\n",
       "      <td>0.000</td>\n",
       "      <td>0.000</td>\n",
       "      <td>0.000</td>\n",
       "    </tr>\n",
       "    <tr>\n",
       "      <th>PGD_0.02</th>\n",
       "      <td>None</td>\n",
       "      <td>0.0</td>\n",
       "      <td>0.000</td>\n",
       "      <td>0.000</td>\n",
       "      <td>0.000</td>\n",
       "    </tr>\n",
       "  </tbody>\n",
       "</table>\n",
       "</div>"
      ],
      "text/plain": [
       "               0  0.75    0.9   0.95   0.99\n",
       "BIM         None   NaN    NaN    NaN    NaN\n",
       "BIM_0.01    None   1.0  1.000  1.000  0.625\n",
       "BIM_0.02    None   1.0  1.000  1.000  0.625\n",
       "CaW         None   NaN    NaN    NaN    NaN\n",
       "CaW_0.001   None   NaN  1.000  1.000  0.625\n",
       "CaW_0.01    None   NaN  1.000  1.000  0.500\n",
       "CaW_0.1     None   NaN  0.875  0.500  0.000\n",
       "EAD         None   NaN    NaN    NaN    NaN\n",
       "EAD_1       None   NaN  1.000  1.000  0.750\n",
       "EAD_5       None   NaN  0.875  0.875  0.750\n",
       "FGSM        None   NaN    NaN    NaN    NaN\n",
       "FGSM_0.002  None   1.0  1.000  1.000  0.250\n",
       "FGSM_0.004  None   1.0  1.000  1.000  0.250\n",
       "PGD         None   NaN    NaN    NaN    NaN\n",
       "PGD_0.01    None   0.0  0.000  0.000  0.000\n",
       "PGD_0.02    None   0.0  0.000  0.000  0.000"
      ]
     },
     "execution_count": 122,
     "metadata": {},
     "output_type": "execute_result"
    }
   ],
   "source": [
    "pd.DataFrame.from_dict(res)[sorted(alpha)]"
   ]
  },
  {
   "cell_type": "code",
   "execution_count": 120,
   "metadata": {
    "scrolled": true
   },
   "outputs": [
    {
     "data": {
      "text/plain": [
       "{'0.95': {'FGSM': None,\n",
       "  'BIM': None,\n",
       "  'PGD': None,\n",
       "  'CaW': None,\n",
       "  'EAD': None,\n",
       "  'FGSM_0.002': 1.0,\n",
       "  'FGSM_0.004': 1.0,\n",
       "  'BIM_0.01': 1.0,\n",
       "  'BIM_0.02': 1.0,\n",
       "  'PGD_0.01': 0.0,\n",
       "  'PGD_0.02': 0.0,\n",
       "  'CaW_0.001': 1.0,\n",
       "  'CaW_0.01': 1.0,\n",
       "  'CaW_0.1': 0.5,\n",
       "  'EAD_1': 1.0,\n",
       "  'EAD_5': 0.875},\n",
       " '0.99': {'FGSM': None,\n",
       "  'BIM': None,\n",
       "  'PGD': None,\n",
       "  'CaW': None,\n",
       "  'EAD': None,\n",
       "  'FGSM_0.002': 0.25,\n",
       "  'FGSM_0.004': 0.25,\n",
       "  'BIM_0.01': 0.625,\n",
       "  'BIM_0.02': 0.625,\n",
       "  'PGD_0.01': 0.0,\n",
       "  'PGD_0.02': 0.0,\n",
       "  'CaW_0.001': 0.625,\n",
       "  'CaW_0.01': 0.5,\n",
       "  'CaW_0.1': 0.0,\n",
       "  'EAD_1': 0.75,\n",
       "  'EAD_5': 0.75},\n",
       " '0.9': {'FGSM': None,\n",
       "  'BIM': None,\n",
       "  'PGD': None,\n",
       "  'CaW': None,\n",
       "  'EAD': None,\n",
       "  'FGSM_0.002': 1.0,\n",
       "  'FGSM_0.004': 1.0,\n",
       "  'BIM_0.01': 1.0,\n",
       "  'BIM_0.02': 1.0,\n",
       "  'PGD_0.01': 0.0,\n",
       "  'PGD_0.02': 0.0,\n",
       "  'CaW_0.001': 1.0,\n",
       "  'CaW_0.01': 1.0,\n",
       "  'CaW_0.1': 0.875,\n",
       "  'EAD_1': 1.0,\n",
       "  'EAD_5': 0.875},\n",
       " '0.75': {'FGSM': None,\n",
       "  'BIM': None,\n",
       "  'PGD': None,\n",
       "  'CaW': None,\n",
       "  'EAD': None,\n",
       "  'FGSM_0.002': 1.0,\n",
       "  'FGSM_0.004': 1.0,\n",
       "  'BIM_0.01': 1.0,\n",
       "  'BIM_0.02': 1.0,\n",
       "  'PGD_0.01': 0.0,\n",
       "  'PGD_0.02': 0.0},\n",
       " '0': None}"
      ]
     },
     "execution_count": 120,
     "metadata": {},
     "output_type": "execute_result"
    }
   ],
   "source": [
    "res"
   ]
  },
  {
   "cell_type": "code",
   "execution_count": 125,
   "metadata": {},
   "outputs": [],
   "source": [
    "import pickle"
   ]
  },
  {
   "cell_type": "code",
   "execution_count": 131,
   "metadata": {},
   "outputs": [],
   "source": [
    "pickle.dump(res, open('attack_res_shape.pkl', 'wb'))"
   ]
  },
  {
   "cell_type": "markdown",
   "metadata": {},
   "source": [
    "## using cleverhans"
   ]
  },
  {
   "cell_type": "code",
   "execution_count": 15,
   "metadata": {},
   "outputs": [],
   "source": [
    "from absl import app, flags\n",
    "from easydict import EasyDict\n",
    "from cleverhans.future.torch.attacks import fast_gradient_method, projected_gradient_descent"
   ]
  },
  {
   "cell_type": "code",
   "execution_count": 13,
   "metadata": {},
   "outputs": [],
   "source": [
    "conf.save_path = Path(path.join(MODEL_DIR, rel_dirs[0]))\n",
    "fix_str = [x for x in os.listdir(path.join(MODEL_DIR, rel_dirs[0])) if 'model' in x][0][8:]\n",
    "learner.load_state(conf, fix_str, model_only=True, from_save_folder=True)"
   ]
  },
  {
   "cell_type": "code",
   "execution_count": null,
   "metadata": {},
   "outputs": [],
   "source": [
    "report = EasyDict(nb_test=0, correct=0, correct_fgm=0, correct_pgd=0)\n",
    "for x, y in data.test:\n",
    "    x, y = x.to(device), y.to(device)\n",
    "    x_fgm = fast_gradient_method(net, x, FLAGS.eps, np.inf)\n",
    "    x_pgd = projected_gradient_descent(net, x, FLAGS.eps, 0.01, 40, np.inf)\n",
    "    _, y_pred = net(x).max(1)  # model prediction on clean examples\n",
    "    _, y_pred_fgm = net(x_fgm).max(1)  # model prediction on FGM adversarial examples\n",
    "    _, y_pred_pgd = net(x_pgd).max(1)  # model prediction on PGD adversarial examples\n",
    "    report.nb_test += y.size(0)\n",
    "    report.correct += y_pred.eq(y).sum().item()\n",
    "    report.correct_fgm += y_pred_fgm.eq(y).sum().item()\n",
    "    report.correct_pgd += y_pred_pgd.eq(y).sum().item()"
   ]
  }
 ],
 "metadata": {
  "kernelspec": {
   "display_name": "Python 3",
   "language": "python",
   "name": "python3"
  },
  "language_info": {
   "codemirror_mode": {
    "name": "ipython",
    "version": 3
   },
   "file_extension": ".py",
   "mimetype": "text/x-python",
   "name": "python",
   "nbconvert_exporter": "python",
   "pygments_lexer": "ipython3",
   "version": "3.6.5"
  }
 },
 "nbformat": 4,
 "nbformat_minor": 2
}
